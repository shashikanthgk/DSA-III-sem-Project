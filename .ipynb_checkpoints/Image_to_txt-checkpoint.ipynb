{
 "cells": [
  {
   "cell_type": "code",
   "execution_count": 1,
   "metadata": {},
   "outputs": [],
   "source": [
    "import cv2\n",
    "import numpy as np\n",
    "import os"
   ]
  },
  {
   "cell_type": "code",
   "execution_count": 2,
   "metadata": {},
   "outputs": [],
   "source": [
    "image = cv2.imread(\"Shashi.jpg\")"
   ]
  },
  {
   "cell_type": "code",
   "execution_count": 3,
   "metadata": {},
   "outputs": [
    {
     "data": {
      "text/plain": [
       "(531, 413, 3)"
      ]
     },
     "execution_count": 3,
     "metadata": {},
     "output_type": "execute_result"
    }
   ],
   "source": [
    "image.shape"
   ]
  },
  {
   "cell_type": "code",
   "execution_count": 4,
   "metadata": {},
   "outputs": [
    {
     "data": {
      "text/plain": [
       "array([[[184, 141,   2],\n",
       "        [183, 140,   1],\n",
       "        [183, 140,   1],\n",
       "        ...,\n",
       "        [182, 138,   1],\n",
       "        [182, 138,   1],\n",
       "        [182, 138,   1]],\n",
       "\n",
       "       [[184, 141,   2],\n",
       "        [184, 141,   2],\n",
       "        [184, 141,   2],\n",
       "        ...,\n",
       "        [182, 139,   0],\n",
       "        [182, 139,   0],\n",
       "        [182, 139,   0]],\n",
       "\n",
       "       [[182, 139,   0],\n",
       "        [183, 140,   1],\n",
       "        [183, 140,   1],\n",
       "        ...,\n",
       "        [182, 139,   0],\n",
       "        [181, 138,   0],\n",
       "        [181, 138,   0]],\n",
       "\n",
       "       ...,\n",
       "\n",
       "       [[180, 190, 200],\n",
       "        [178, 193, 202],\n",
       "        [181, 196, 205],\n",
       "        ...,\n",
       "        [210, 217, 226],\n",
       "        [212, 219, 228],\n",
       "        [213, 220, 229]],\n",
       "\n",
       "       [[174, 191, 200],\n",
       "        [173, 190, 199],\n",
       "        [177, 192, 201],\n",
       "        ...,\n",
       "        [217, 219, 229],\n",
       "        [215, 220, 229],\n",
       "        [215, 220, 229]],\n",
       "\n",
       "       [[171, 190, 198],\n",
       "        [171, 190, 198],\n",
       "        [173, 190, 199],\n",
       "        ...,\n",
       "        [218, 220, 230],\n",
       "        [215, 220, 229],\n",
       "        [215, 220, 229]]], dtype=uint8)"
      ]
     },
     "execution_count": 4,
     "metadata": {},
     "output_type": "execute_result"
    }
   ],
   "source": [
    "image"
   ]
  },
  {
   "cell_type": "code",
   "execution_count": null,
   "metadata": {},
   "outputs": [],
   "source": [
    "for i in range(image.shape[0]):\n",
    "    for j in range(image.shape[1]):\n",
    "        print(\"image [i][j][0] \")\n",
    "        print(\"image [i][j][0] \")\n",
    "        print(\"image [i][j][0] \")\n"
   ]
  }
 ],
 "metadata": {
  "kernelspec": {
   "display_name": "Python 3",
   "language": "python",
   "name": "python3"
  },
  "language_info": {
   "codemirror_mode": {
    "name": "ipython",
    "version": 3
   },
   "file_extension": ".py",
   "mimetype": "text/x-python",
   "name": "python",
   "nbconvert_exporter": "python",
   "pygments_lexer": "ipython3",
   "version": "3.7.4"
  }
 },
 "nbformat": 4,
 "nbformat_minor": 2
}
